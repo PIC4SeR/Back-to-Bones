{
 "cells": [
  {
   "cell_type": "code",
   "execution_count": 12,
   "id": "67ded2db",
   "metadata": {
    "ExecuteTime": {
     "end_time": "2021-07-06T09:24:08.906620Z",
     "start_time": "2021-07-06T09:24:08.900530Z"
    }
   },
   "outputs": [],
   "source": [
    "import os\n",
    "os.chdir(\"../../\")"
   ]
  },
  {
   "cell_type": "markdown",
   "id": "4682df90",
   "metadata": {},
   "source": [
    "### PACS"
   ]
  },
  {
   "cell_type": "code",
   "execution_count": 15,
   "id": "d1406917",
   "metadata": {
    "ExecuteTime": {
     "end_time": "2021-07-06T09:25:16.537767Z",
     "start_time": "2021-07-06T09:24:53.986581Z"
    },
    "collapsed": true
   },
   "outputs": [
    {
     "name": "stdout",
     "output_type": "stream",
     "text": [
      "Cloning into 'Homework3-PACS'...\n",
      "remote: Enumerating objects: 10032, done.\u001b[K\n",
      "remote: Total 10032 (delta 0), reused 0 (delta 0), pack-reused 10032\u001b[K\n",
      "Receiving objects: 100% (10032/10032), 174.13 MiB | 8.34 MiB/s, done.\n",
      "Resolving deltas: 100% (1/1), done.\n",
      "rm: cannot remove '.r': No such file or directory\n",
      "rm: cannot remove 'Datasets/Homework3-PACS/': Is a directory\n"
     ]
    }
   ],
   "source": [
    "if not os.path.isdir('Datasets/PACS'):\n",
    "    !git clone https://github.com/MachineLearning2020/Homework3-PACS.git\n",
    "    !mv Datasets/Homework3-PACS/PACS Datasets/\n",
    "    !rm -r Datasets/Homework3-PACS/"
   ]
  },
  {
   "cell_type": "markdown",
   "id": "00fe7628",
   "metadata": {},
   "source": [
    "### Office-Home"
   ]
  },
  {
   "cell_type": "markdown",
   "id": "b8b88728",
   "metadata": {},
   "source": [
    "Run this in terminal:\n",
    "~~~\n",
    "cd ../../Datasets/\n",
    "\n",
    "wget --load-cookies /tmp/cookies.txt \"https://docs.google.com/uc?export=download&confirm=$(wget --quiet --save-cookies /tmp/cookies.txt --keep-session-cookies --no-check-certificate 'https://docs.google.com/uc?export=download&id=0B81rNlvomiwed0V1YUxQdC1uOTg' -O- | sed -rn 's/.*confirm=([0-9A-Za-z_]+).*/\\1\\n/p')&id=0B81rNlvomiwed0V1YUxQdC1uOTg\" -O OfficeHomeDataset_10072016.zip && rm -rf /tmp/cookies.txt\n",
    "\n",
    "!unzip Datasets/OfficeHomeDataset_10072016.zip\n",
    "\n",
    "!mv Datasets/OfficeHomeDataset_10072016/ Datasets/OfficeHomeDataset/\n",
    "~~~"
   ]
  },
  {
   "cell_type": "markdown",
   "id": "524b0287",
   "metadata": {
    "ExecuteTime": {
     "end_time": "2021-07-05T17:10:50.941613Z",
     "start_time": "2021-07-05T17:10:50.940002Z"
    }
   },
   "source": [
    "### VLCS"
   ]
  },
  {
   "cell_type": "code",
   "execution_count": 14,
   "id": "5c1a6373",
   "metadata": {
    "ExecuteTime": {
     "end_time": "2021-07-06T09:24:16.310438Z",
     "start_time": "2021-07-06T09:24:16.305075Z"
    }
   },
   "outputs": [],
   "source": [
    "if not os.path.isdir('Datasets/VLCS'):\n",
    "    !wget http://download1514.mediafire.com/pzqrqay6wwsg/7yv132lgn1v267r/vlcs.tar.gz\n",
    "    !untar xvzf ./Datasets/vlcs.tar.gz"
   ]
  }
 ],
 "metadata": {
  "kernelspec": {
   "display_name": "Python 3",
   "language": "python",
   "name": "python3"
  },
  "language_info": {
   "codemirror_mode": {
    "name": "ipython",
    "version": 3
   },
   "file_extension": ".py",
   "mimetype": "text/x-python",
   "name": "python",
   "nbconvert_exporter": "python",
   "pygments_lexer": "ipython3",
   "version": "3.6.9"
  },
  "toc": {
   "base_numbering": 1,
   "nav_menu": {},
   "number_sections": true,
   "sideBar": true,
   "skip_h1_title": false,
   "title_cell": "Table of Contents",
   "title_sidebar": "Contents",
   "toc_cell": false,
   "toc_position": {},
   "toc_section_display": true,
   "toc_window_display": false
  },
  "varInspector": {
   "cols": {
    "lenName": 16,
    "lenType": 16,
    "lenVar": 40
   },
   "kernels_config": {
    "python": {
     "delete_cmd_postfix": "",
     "delete_cmd_prefix": "del ",
     "library": "var_list.py",
     "varRefreshCmd": "print(var_dic_list())"
    },
    "r": {
     "delete_cmd_postfix": ") ",
     "delete_cmd_prefix": "rm(",
     "library": "var_list.r",
     "varRefreshCmd": "cat(var_dic_list()) "
    }
   },
   "types_to_exclude": [
    "module",
    "function",
    "builtin_function_or_method",
    "instance",
    "_Feature"
   ],
   "window_display": false
  }
 },
 "nbformat": 4,
 "nbformat_minor": 5
}
