{
 "cells": [
  {
   "cell_type": "code",
   "execution_count": 3,
   "metadata": {
    "ExecuteTime": {
     "end_time": "2021-07-23T09:15:01.097251Z",
     "start_time": "2021-07-23T09:15:01.092305Z"
    }
   },
   "outputs": [],
   "source": [
    "import numpy as np\n",
    "import matplotlib.pyplot as plt\n",
    "import json\n",
    "import pandas as pd\n",
    "import os\n",
    "from os import listdir\n",
    "from os.path import isfile, join\n",
    "import shutil"
   ]
  },
  {
   "cell_type": "code",
   "execution_count": 4,
   "metadata": {
    "ExecuteTime": {
     "end_time": "2021-07-23T09:15:01.458975Z",
     "start_time": "2021-07-23T09:15:01.453027Z"
    }
   },
   "outputs": [],
   "source": [
    "rootDir = '../../../Datasets/TerraIncognita'\n",
    "dataDir = f'{rootDir}/eccv_18_all_images_sm'\n",
    "annDir = f'{rootDir}/eccv_18_annotation_files'\n",
    "annFiles = [join(annDir, f) for f in listdir(annDir) if isfile(join(annDir, f))]\n",
    "txtDir = '../data/txt_lists/TerraIncognita'\n",
    "domains = [38, 43, 46, 100]\n",
    "labels = [1, 3, 5, 6, 7, 8, 9, 10, 11, 16, 21, 30, 33, 34, 51, 99]"
   ]
  },
  {
   "cell_type": "code",
   "execution_count": 5,
   "metadata": {
    "ExecuteTime": {
     "end_time": "2021-07-23T09:15:02.367230Z",
     "start_time": "2021-07-23T09:15:02.314679Z"
    }
   },
   "outputs": [
    {
     "data": {
      "text/plain": [
       "[{'id': 6, 'name': 'bobcat'},\n",
       " {'id': 1, 'name': 'opossum'},\n",
       " {'id': 30, 'name': 'empty'},\n",
       " {'id': 9, 'name': 'coyote'},\n",
       " {'id': 3, 'name': 'raccoon'},\n",
       " {'id': 11, 'name': 'bird'},\n",
       " {'id': 8, 'name': 'dog'},\n",
       " {'id': 16, 'name': 'cat'},\n",
       " {'id': 5, 'name': 'squirrel'},\n",
       " {'id': 10, 'name': 'rabbit'},\n",
       " {'id': 7, 'name': 'skunk'},\n",
       " {'id': 99, 'name': 'rodent'},\n",
       " {'id': 21, 'name': 'badger'},\n",
       " {'id': 34, 'name': 'deer'},\n",
       " {'id': 33, 'name': 'car'},\n",
       " {'id': 51, 'name': 'fox'}]"
      ]
     },
     "execution_count": 5,
     "metadata": {},
     "output_type": "execute_result"
    }
   ],
   "source": [
    "dataset = json.load(open(annFiles[3], 'r'))\n",
    "[sample for sample in dataset['categories']]"
   ]
  },
  {
   "cell_type": "code",
   "execution_count": 6,
   "metadata": {
    "ExecuteTime": {
     "end_time": "2021-07-23T09:15:03.036400Z",
     "start_time": "2021-07-23T09:15:03.032771Z"
    }
   },
   "outputs": [],
   "source": [
    "def recover_labels(images, dataset):\n",
    "    labels = []\n",
    "    for img in images:\n",
    "        img_id = img[:-4]\n",
    "        res = next((ann for ann in dataset['annotations'] if ann['image_id'] == img_id), None)\n",
    "        if res is not None:\n",
    "            labels.append(res['category_id'])\n",
    "    return labels"
   ]
  },
  {
   "cell_type": "code",
   "execution_count": 7,
   "metadata": {
    "ExecuteTime": {
     "end_time": "2021-07-23T09:15:03.540269Z",
     "start_time": "2021-07-23T09:15:03.536341Z"
    }
   },
   "outputs": [],
   "source": [
    "def load_splits(annFile):\n",
    "\n",
    "    dataset = json.load(open(annFile, 'r'))\n",
    "    locations = [sample['location'] for sample in dataset['images']]\n",
    "    images = [sample['file_name'] for sample in dataset['images']]\n",
    "\n",
    "    labels = recover_labels(images, dataset)\n",
    "    \n",
    "    df = pd.DataFrame(list(zip(images, locations, labels)), columns =['file_name', 'location', 'label'])\n",
    "    \n",
    "    return df"
   ]
  },
  {
   "cell_type": "code",
   "execution_count": 12,
   "metadata": {
    "ExecuteTime": {
     "end_time": "2021-07-23T09:24:33.552888Z",
     "start_time": "2021-07-23T09:24:33.548243Z"
    }
   },
   "outputs": [],
   "source": [
    "def save_splits(df, domains, labels):\n",
    "    if not os.path.exists(txtDir):\n",
    "        os.mkdir(txtDir)\n",
    "    for domain in domains:\n",
    "        if not os.path.exists(f'{rootDir}/{domain}'):\n",
    "            os.mkdir(f'{rootDir}/{domain}')\n",
    "            for label in labels:\n",
    "                os.mkdir(f'{rootDir}/{domain}/{label}')\n",
    "        \n",
    "        if not os.path.exists(join(txtDir, str(domain))):\n",
    "            os.mkdir(join(txtDir, str(domain)))\n",
    "        file_path = join(txtDir, f'{domain}/{domain}.txt')\n",
    "        \n",
    "        dom_df = df.loc[df['location'] == domain]\n",
    "        \n",
    "        txt_list = []\n",
    "        for index, row in dom_df.iterrows():\n",
    "            origin = f'{dataDir}/{row[\"file_name\"]}'\n",
    "            target = f'{rootDir}/{domain}/{row[\"label\"]}/{row[\"file_name\"]}'\n",
    "            txt_list.append(f'{domain}/{row[\"label\"]}/{row[\"file_name\"]} {labels.index(row[\"label\"])}')\n",
    "            shutil.copy(origin, target)\n",
    "            \n",
    "        if txt_list:   \n",
    "            f = open(file_path,'a')\n",
    "            s1='\\n'.join(txt_list)\n",
    "            f.write(s1)\n",
    "            f.write('\\n')\n",
    "            f.close()"
   ]
  },
  {
   "cell_type": "code",
   "execution_count": 13,
   "metadata": {
    "ExecuteTime": {
     "end_time": "2021-07-23T09:24:59.052725Z",
     "start_time": "2021-07-23T09:24:37.089323Z"
    },
    "scrolled": true
   },
   "outputs": [],
   "source": [
    "for annFile in annFiles:\n",
    "    df = load_splits(annFile)\n",
    "    df = df.loc[df['location'].isin(domains)]\n",
    "    save_splits(df, domains, labels)"
   ]
  },
  {
   "cell_type": "code",
   "execution_count": null,
   "metadata": {},
   "outputs": [],
   "source": []
  }
 ],
 "metadata": {
  "kernelspec": {
   "display_name": "Torch",
   "language": "python",
   "name": "torch"
  },
  "language_info": {
   "codemirror_mode": {
    "name": "ipython",
    "version": 3
   },
   "file_extension": ".py",
   "mimetype": "text/x-python",
   "name": "python",
   "nbconvert_exporter": "python",
   "pygments_lexer": "ipython3",
   "version": "3.6.9"
  },
  "toc": {
   "base_numbering": 1,
   "nav_menu": {},
   "number_sections": true,
   "sideBar": true,
   "skip_h1_title": false,
   "title_cell": "Table of Contents",
   "title_sidebar": "Contents",
   "toc_cell": false,
   "toc_position": {},
   "toc_section_display": true,
   "toc_window_display": false
  },
  "varInspector": {
   "cols": {
    "lenName": 16,
    "lenType": 16,
    "lenVar": 40
   },
   "kernels_config": {
    "python": {
     "delete_cmd_postfix": "",
     "delete_cmd_prefix": "del ",
     "library": "var_list.py",
     "varRefreshCmd": "print(var_dic_list())"
    },
    "r": {
     "delete_cmd_postfix": ") ",
     "delete_cmd_prefix": "rm(",
     "library": "var_list.r",
     "varRefreshCmd": "cat(var_dic_list()) "
    }
   },
   "types_to_exclude": [
    "module",
    "function",
    "builtin_function_or_method",
    "instance",
    "_Feature"
   ],
   "window_display": false
  }
 },
 "nbformat": 4,
 "nbformat_minor": 1
}
